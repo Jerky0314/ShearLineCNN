{
 "cells": [
  {
   "cell_type": "markdown",
   "id": "ae5d8f43-6828-4068-be52-b1695b6f0c43",
   "metadata": {
    "id": "ae5d8f43-6828-4068-be52-b1695b6f0c43"
   },
   "source": [
    "# ShearLineCNN\n",
    "> Shear Line Classification using CNN."
   ]
  },
  {
   "cell_type": "markdown",
   "id": "db17189e-3c33-4faa-8b17-2085be1342a5",
   "metadata": {
    "id": "db17189e-3c33-4faa-8b17-2085be1342a5"
   },
   "source": [
    "## Revision History\n",
    "\n",
    "| #   | Date       | Action                                           | Modified by        |\n",
    "|-----|------------|--------------------------------------------------|--------------------|\n",
    "|     |            |                                                  |                    |\n",
    "| 010 | 2025-05-16 | Optimize architecture                            | rmaniego           |\n",
    "| 009 | 2025-05-16 | Improve architecture                             | rmaniego           |\n",
    "| 008 | 2025-05-15 | Fix model metrics                                | rmaniego           |\n",
    "| 007 | 2025-05-03 | Fix testing evaluation                           | rmaniego           |\n",
    "| 006 | 2025-05-03 | Fix dataset loader                               | rmaniego           |\n",
    "| 005 | 2025-05-03 | Fix segmentation dataset                         | rmaniego           |\n",
    "| 004 | 2025-04-10 | Fix architecture to match dataset                | rmaniego           |\n",
    "| 003 | 2025-04-10 | Update architecture base codes                   | rmaniego           |\n",
    "| 002 | 2025-04-09 | Prepare dataset                                  | rmaniego           |\n",
    "| 001 | 2025-03-29 | Create GitHub repository                         | rmaniego           |"
   ]
  },
  {
   "cell_type": "markdown",
   "id": "59e0c792-5a86-47d4-84e2-f77c1b7187a9",
   "metadata": {
    "id": "59e0c792-5a86-47d4-84e2-f77c1b7187a9"
   },
   "source": [
    "## Step 1. Mount Google Drive\n",
    "\n",
    "**Notes:**.\n",
    " - This requires GDrive permissions.\n",
    " - Update changes in local repository.\n",
    " - Re-run cell for every commit changes in the repository.\n",
    " - Colab is read only, unless set in GitHub FGPATs\n",
    "\n",
    "```python\n",
    "pip install jupyterlab\n",
    "pip install notebook\n",
    "jupyter notebook\n",
    "```\n",
    "\n",
    "**GitHub Personal Access Tokens (PAT)**\n",
    "1. Go to `https://github.com/settings/tokens`.\n",
    "2. On the sidebar, select `Fine-grained tokens`.\n",
    "3. Fill-up appropriate details, limit read/write access.\n",
    "4. Copy generated `PAT` to local environment variables.\n",
    "5. Do the same to Google Colab secrets.\n",
    "6. Once expired, move the old repo in GDrive to trash."
   ]
  },
  {
   "cell_type": "code",
   "execution_count": 2,
   "id": "5ff34bdd-3fe1-4390-aebc-84f07d013ad9",
   "metadata": {
    "colab": {
     "base_uri": "https://localhost:8080/"
    },
    "id": "5ff34bdd-3fe1-4390-aebc-84f07d013ad9",
    "outputId": "88d02f33-a5ed-4d4a-facf-0399b65775e3"
   },
   "outputs": [],
   "source": [
    "import os\n",
    "\n",
    "github_fgpat = None\n",
    "live_on_colab = False\n",
    "environment_ready = False\n",
    "\n",
    "os.environ[\"TF_CPP_MIN_LOG_LEVEL\"] = \"3\"\n",
    "os.environ[\"TF_ENABLE_ONEDNN_OPTS\"] = \"0\"\n",
    "\n",
    "try:\n",
    "    from google.colab import drive, userdata\n",
    "\n",
    "    drive.mount(\"/content/drive\")\n",
    "\n",
    "    live_on_colab = True\n",
    "    github_fgpat = userdata.get(\"ShearLineCNN\")\n",
    "    print(\"Running on Google Colaboratory...\")\n",
    "except ImportError:\n",
    "    print(\"Running locally...\")"
   ]
  },
  {
   "cell_type": "markdown",
   "id": "83cd2a48-9c27-4863-b23f-f635c33a0789",
   "metadata": {
    "id": "83cd2a48-9c27-4863-b23f-f635c33a0789"
   },
   "source": [
    "## Step 2. Check Colab Compute Engine Backend\n",
    "**Note:** Execute to verify HW accelerator allocation, use information on manuscript.\n",
    "\n",
    "HW accelerator availability may vary, so ensure that the session is timed and is connected to expected runtime environment in all iterations. Options include:\n",
    "1. NVIDIA A100 Tensor Core GPU - high-performance deep learning training (recommended).\n",
    "2. NVIDIA L4 Tensor Core GPU - optimized for AI inference tasks with high performance and efficiency (preferred during HP fine-tuning).\n",
    "3. NVIDIA T4 Tensor Core GPU - cost-effective, versatile, and suitable for a variety of tasks.\n"
   ]
  },
  {
   "cell_type": "code",
   "execution_count": 4,
   "id": "a6b6346a-0cf0-45ae-adac-7ec8d8a08bcc",
   "metadata": {
    "colab": {
     "base_uri": "https://localhost:8080/"
    },
    "id": "a6b6346a-0cf0-45ae-adac-7ec8d8a08bcc",
    "outputId": "f6df6a14-d840-4bd1-81de-ca62c6b3e5be"
   },
   "outputs": [
    {
     "name": "stdout",
     "output_type": "stream",
     "text": [
      "Fri May 16 09:10:25 2025       \n",
      "+-----------------------------------------------------------------------------------------+\n",
      "| NVIDIA-SMI 550.54.15              Driver Version: 550.54.15      CUDA Version: 12.4     |\n",
      "|-----------------------------------------+------------------------+----------------------+\n",
      "| GPU  Name                 Persistence-M | Bus-Id          Disp.A | Volatile Uncorr. ECC |\n",
      "| Fan  Temp   Perf          Pwr:Usage/Cap |           Memory-Usage | GPU-Util  Compute M. |\n",
      "|                                         |                        |               MIG M. |\n",
      "|=========================================+========================+======================|\n",
      "|   0  NVIDIA A100-SXM4-40GB          Off |   00000000:00:04.0 Off |                    0 |\n",
      "| N/A   34C    P0             49W /  400W |       0MiB /  40960MiB |      0%      Default |\n",
      "|                                         |                        |             Disabled |\n",
      "+-----------------------------------------+------------------------+----------------------+\n",
      "                                                                                         \n",
      "+-----------------------------------------------------------------------------------------+\n",
      "| Processes:                                                                              |\n",
      "|  GPU   GI   CI        PID   Type   Process name                              GPU Memory |\n",
      "|        ID   ID                                                               Usage      |\n",
      "|=========================================================================================|\n",
      "|  No running processes found                                                             |\n",
      "+-----------------------------------------------------------------------------------------+\n",
      "Your runtime has 89.6 gigabytes of available RAM\n",
      "You are using a high-RAM runtime!\n"
     ]
    }
   ],
   "source": [
    "if live_on_colab:\n",
    "    gpu_info = !nvidia-smi\n",
    "    gpu_info = \"\\n\".join(gpu_info)\n",
    "    if gpu_info.find(\"failed\") >= 0:\n",
    "        print(\"Not connected to a GPU\")\n",
    "    else:\n",
    "        print(gpu_info)\n",
    "\n",
    "    from psutil import virtual_memory\n",
    "\n",
    "    ram_gb = virtual_memory().total / 1e9\n",
    "    print(f\"Your runtime has {ram_gb:.1f} gigabytes of available RAM\")\n",
    "\n",
    "    if ram_gb < 20:\n",
    "        print(\"Not using a high-RAM runtime\")\n",
    "    else:\n",
    "        print(\"You are using a high-RAM runtime!\")"
   ]
  },
  {
   "cell_type": "markdown",
   "id": "846e48d4-07e6-4f8d-a469-695cc37c6354",
   "metadata": {
    "id": "846e48d4-07e6-4f8d-a469-695cc37c6354"
   },
   "source": [
    "## Step 3. Change Working Directory\n",
    "**Note:** Execute cell to ensure the notebook is running under the latest version of project repository."
   ]
  },
  {
   "cell_type": "code",
   "execution_count": 14,
   "id": "6ae29c92-27d9-4154-8951-328298daa982",
   "metadata": {
    "colab": {
     "base_uri": "https://localhost:8080/"
    },
    "id": "6ae29c92-27d9-4154-8951-328298daa982",
    "outputId": "dba81774-c2c9-405f-bdbc-9ae8aeb43574"
   },
   "outputs": [
    {
     "name": "stdout",
     "output_type": "stream",
     "text": [
      "Updating files: 100% (37/37), done.\n",
      "HEAD is now at c7decdc add new codes\n",
      "From https://github.com/Jerky0314/ShearLineCNN\n",
      " * branch            main       -> FETCH_HEAD\n",
      "Already up to date.\n",
      "/content/drive/MyDrive/Colab Notebooks/ShearLineCNN\n"
     ]
    }
   ],
   "source": [
    "if live_on_colab:\n",
    "    NB = \"/content/drive/MyDrive/Colab Notebooks/\"\n",
    "    os.makedirs(NB, exist_ok=True)\n",
    "\n",
    "    def update_repo():\n",
    "\n",
    "        REPO = f\"{NB}/ShearLineCNN\"\n",
    "        if not os.path.isdir(REPO):\n",
    "            !git clone https://{github_fgpat}@github.com/Jerky0314/ShearLineCNN.git\n",
    "            os.chdir(NB)\n",
    "            return\n",
    "\n",
    "        os.chdir(REPO)\n",
    "        !git reset --hard HEAD\n",
    "        !git pull origin main\n",
    "\n",
    "    update_repo()\n",
    "\n",
    "print(os.getcwd())"
   ]
  },
  {
   "cell_type": "code",
   "execution_count": 7,
   "id": "RwG-WN4bYPzN",
   "metadata": {
    "id": "RwG-WN4bYPzN"
   },
   "outputs": [],
   "source": [
    " !git config pull.rebase false"
   ]
  },
  {
   "cell_type": "markdown",
   "id": "1a6a8531-7976-4e6f-b943-4a72e056ed1d",
   "metadata": {
    "id": "1a6a8531-7976-4e6f-b943-4a72e056ed1d"
   },
   "source": [
    "## Step 4. Install Dependencies\n",
    "**Note:** Execute cell everytime the `Google Colab` runtime environment reconnected."
   ]
  },
  {
   "cell_type": "code",
   "execution_count": null,
   "id": "7dafb19c-b37d-4527-8f64-ab4e12efd6c8",
   "metadata": {
    "colab": {
     "base_uri": "https://localhost:8080/"
    },
    "id": "7dafb19c-b37d-4527-8f64-ab4e12efd6c8",
    "outputId": "f96b3c20-6329-49a7-f438-3d59639b89f5"
   },
   "outputs": [],
   "source": [
    "if live_on_colab:\n",
    "    %pip install -U jupyterlab\n",
    "    %pip install -U notebook\n",
    "    %pip install -U opencv-python\n",
    "    %pip install -U scikit-learn\n",
    "    %pip install -U scikit-image\n",
    "    %pip install -U matplotlib\n",
    "    %pip install -U seaborn\n",
    "    %pip install -U tensorflow\n",
    "    %pip install -U tabulate\n",
    "print(\"Environment is ready...\")"
   ]
  },
  {
   "cell_type": "markdown",
   "id": "0e09b829-9e4e-405e-ba4c-cf01e76cde4b",
   "metadata": {
    "id": "0e09b829-9e4e-405e-ba4c-cf01e76cde4b"
   },
   "source": [
    "## Step 5: Import the Packages  \n",
    "\n",
    "import all third party libraries necessary for the ANN model to execute successfully."
   ]
  },
  {
   "cell_type": "code",
   "execution_count": 1,
   "id": "73d9d045-7f6b-43af-9271-25872b31a013",
   "metadata": {
    "colab": {
     "base_uri": "https://localhost:8080/"
    },
    "id": "73d9d045-7f6b-43af-9271-25872b31a013",
    "outputId": "9c1bb9aa-4ff7-4591-b292-a35cd2488c07"
   },
   "outputs": [
    {
     "name": "stdout",
     "output_type": "stream",
     "text": [
      "No GPU detected. Running on CPU.\n"
     ]
    }
   ],
   "source": [
    "import glob\n",
    "import json\n",
    "import time\n",
    "import warnings\n",
    "from datetime import datetime\n",
    "\n",
    "warnings.filterwarnings(\"ignore\", category=RuntimeWarning, message=\"os.fork()\")\n",
    "\n",
    "import cv2\n",
    "import numpy as np\n",
    "import tensorflow as tf\n",
    "from tensorflow.keras.models import Sequential\n",
    "from sklearn.model_selection import train_test_split\n",
    "from tensorflow.keras.layers import Input, Conv2D, MaxPooling2D, BatchNormalization, Dropout, UpSampling2D, Cropping2D\n",
    "from tensorflow.keras.optimizers import Adadelta\n",
    "from tensorflow.keras import backend as K\n",
    "\n",
    "\n",
    "gpus = tf.config.list_physical_devices(\"GPU\")\n",
    "\n",
    "if gpus:\n",
    "    try:\n",
    "        for gpu in gpus:\n",
    "            tf.config.experimental.set_memory_growth(gpu, True)\n",
    "    except RuntimeError as e:\n",
    "            print(e)\n",
    "    print(\"GPU detected. Running on GPU.\")\n",
    "else:\n",
    "    print(\"No GPU detected. Running on CPU.\")"
   ]
  },
  {
   "cell_type": "markdown",
   "id": "bb73f5f4-ab60-487e-96a0-45c562c5688b",
   "metadata": {
    "id": "bb73f5f4-ab60-487e-96a0-45c562c5688b"
   },
   "source": [
    "## Step 6: Load Datasets  \n",
    "\n",
    "Load and prepare the training and testing datasets."
   ]
  },
  {
   "cell_type": "code",
   "execution_count": 3,
   "id": "2167f830-dd47-48bf-a7e5-496c1227cebf",
   "metadata": {
    "colab": {
     "base_uri": "https://localhost:8080/"
    },
    "id": "2167f830-dd47-48bf-a7e5-496c1227cebf",
    "outputId": "c9341cf5-150c-4183-f06b-a886997a4f2e"
   },
   "outputs": [
    {
     "name": "stdout",
     "output_type": "stream",
     "text": [
      "Dataset ready...\n"
     ]
    }
   ],
   "source": [
    "def load_features(source, target, category):\n",
    "    basenames, features, labels = [], [], []\n",
    "\n",
    "    sources = glob.glob(f\"{source}/{category}/*.json\")\n",
    "    for i, source_path in enumerate(sources):\n",
    "        filename = os.path.basename(source_path)\n",
    "\n",
    "        with open(source_path, \"r\", encoding=\"utf-8\") as file:\n",
    "            data1 = np.array(json.load(file))\n",
    "\n",
    "        target_path = f\"{target}/{category}/{filename}\"\n",
    "        with open(target_path, \"r\", encoding=\"utf-8\") as file:\n",
    "            data2 = np.array(json.load(file))\n",
    "\n",
    "        features.append(data1)\n",
    "        labels.append(data2)\n",
    "        basenames.append(filename)\n",
    "\n",
    "    return basenames, np.array(features), np.array(labels)\n",
    "\n",
    "basenames_list, features_list, labels_list = [], [], []\n",
    "\n",
    "categories = [\"no-shear\", \"shear\"]\n",
    "segmentation_source = \"data/segmentation/source\"\n",
    "segmentation_target = \"data/segmentation/target\"\n",
    "for category in categories:\n",
    "    basenames, features, labels = load_features(segmentation_source, segmentation_target, category)\n",
    "    if features.size > 0:\n",
    "        basenames_list.extend(basenames)\n",
    "        features_list.append(features)\n",
    "        labels_list.append(labels)\n",
    "\n",
    "features = np.vstack(features_list)\n",
    "labels = np.vstack(labels_list)\n",
    "basenames = np.array(basenames_list)\n",
    "\n",
    "# 90:10 split for testing (only split basenames)\n",
    "basenames_train_val, basenames_test = train_test_split(\n",
    "    basenames, test_size=0.1, shuffle=True\n",
    ")\n",
    "\n",
    "mask_train_val = [name in basenames_train_val for name in basenames]\n",
    "features_train_val = features[mask_train_val]\n",
    "labels_train_val = labels[mask_train_val]\n",
    "\n",
    "# split features and labels based on the new splits\n",
    "mask_test = [name in basenames_test for name in basenames]\n",
    "features_test = features[mask_test]\n",
    "labels_test = labels[mask_test]\n",
    "\n",
    "# 80:20 split for train-validation\n",
    "indices_train, indices_val = train_test_split(\n",
    "    np.arange(len(basenames_train_val)), test_size=0.2, shuffle=True\n",
    ")\n",
    "\n",
    "features_train = features_train_val[indices_train]\n",
    "labels_train = labels_train_val[indices_train]\n",
    "basenames_train = basenames_train_val[indices_train]\n",
    "\n",
    "features_val = features_train_val[indices_val]\n",
    "labels_val = labels_train_val[indices_val]\n",
    "basenames_val = basenames_train_val[indices_val]\n",
    "\n",
    "print(\"Dataset ready...\")"
   ]
  },
  {
   "cell_type": "markdown",
   "id": "12eeb2b2-bb64-43cb-a35f-27c2ffc98e99",
   "metadata": {
    "id": "12eeb2b2-bb64-43cb-a35f-27c2ffc98e99"
   },
   "source": [
    "## Step 7: Define the Architecture  \n",
    "\n",
    "Define the structure of the convolutional neural network for shear line classification."
   ]
  },
  {
   "cell_type": "code",
   "execution_count": 12,
   "id": "aa709b18-4e1b-4ddc-b84f-2bf3d6702e6f",
   "metadata": {
    "id": "aa709b18-4e1b-4ddc-b84f-2bf3d6702e6f"
   },
   "outputs": [
    {
     "data": {
      "text/html": [
       "<pre style=\"white-space:pre;overflow-x:auto;line-height:normal;font-family:Menlo,'DejaVu Sans Mono',consolas,'Courier New',monospace\"><span style=\"font-weight: bold\">Model: \"sequential_7\"</span>\n",
       "</pre>\n"
      ],
      "text/plain": [
       "\u001b[1mModel: \"sequential_7\"\u001b[0m\n"
      ]
     },
     "metadata": {},
     "output_type": "display_data"
    },
    {
     "data": {
      "text/html": [
       "<pre style=\"white-space:pre;overflow-x:auto;line-height:normal;font-family:Menlo,'DejaVu Sans Mono',consolas,'Courier New',monospace\">┏━━━━━━━━━━━━━━━━━━━━━━━━━━━━━━━━━━━━━━┳━━━━━━━━━━━━━━━━━━━━━━━━━━━━━┳━━━━━━━━━━━━━━━━━┓\n",
       "┃<span style=\"font-weight: bold\"> Layer (type)                         </span>┃<span style=\"font-weight: bold\"> Output Shape                </span>┃<span style=\"font-weight: bold\">         Param # </span>┃\n",
       "┡━━━━━━━━━━━━━━━━━━━━━━━━━━━━━━━━━━━━━━╇━━━━━━━━━━━━━━━━━━━━━━━━━━━━━╇━━━━━━━━━━━━━━━━━┩\n",
       "│ conv2d_53 (<span style=\"color: #0087ff; text-decoration-color: #0087ff\">Conv2D</span>)                   │ (<span style=\"color: #00d7ff; text-decoration-color: #00d7ff\">None</span>, <span style=\"color: #00af00; text-decoration-color: #00af00\">161</span>, <span style=\"color: #00af00; text-decoration-color: #00af00\">141</span>, <span style=\"color: #00af00; text-decoration-color: #00af00\">128</span>)       │           <span style=\"color: #00af00; text-decoration-color: #00af00\">2,432</span> │\n",
       "├──────────────────────────────────────┼─────────────────────────────┼─────────────────┤\n",
       "│ max_pooling2d_17 (<span style=\"color: #0087ff; text-decoration-color: #0087ff\">MaxPooling2D</span>)      │ (<span style=\"color: #00d7ff; text-decoration-color: #00d7ff\">None</span>, <span style=\"color: #00af00; text-decoration-color: #00af00\">81</span>, <span style=\"color: #00af00; text-decoration-color: #00af00\">71</span>, <span style=\"color: #00af00; text-decoration-color: #00af00\">128</span>)         │               <span style=\"color: #00af00; text-decoration-color: #00af00\">0</span> │\n",
       "├──────────────────────────────────────┼─────────────────────────────┼─────────────────┤\n",
       "│ conv2d_54 (<span style=\"color: #0087ff; text-decoration-color: #0087ff\">Conv2D</span>)                   │ (<span style=\"color: #00d7ff; text-decoration-color: #00d7ff\">None</span>, <span style=\"color: #00af00; text-decoration-color: #00af00\">81</span>, <span style=\"color: #00af00; text-decoration-color: #00af00\">71</span>, <span style=\"color: #00af00; text-decoration-color: #00af00\">256</span>)         │         <span style=\"color: #00af00; text-decoration-color: #00af00\">295,168</span> │\n",
       "├──────────────────────────────────────┼─────────────────────────────┼─────────────────┤\n",
       "│ max_pooling2d_18 (<span style=\"color: #0087ff; text-decoration-color: #0087ff\">MaxPooling2D</span>)      │ (<span style=\"color: #00d7ff; text-decoration-color: #00d7ff\">None</span>, <span style=\"color: #00af00; text-decoration-color: #00af00\">41</span>, <span style=\"color: #00af00; text-decoration-color: #00af00\">36</span>, <span style=\"color: #00af00; text-decoration-color: #00af00\">256</span>)         │               <span style=\"color: #00af00; text-decoration-color: #00af00\">0</span> │\n",
       "├──────────────────────────────────────┼─────────────────────────────┼─────────────────┤\n",
       "│ dropout_7 (<span style=\"color: #0087ff; text-decoration-color: #0087ff\">Dropout</span>)                  │ (<span style=\"color: #00d7ff; text-decoration-color: #00d7ff\">None</span>, <span style=\"color: #00af00; text-decoration-color: #00af00\">41</span>, <span style=\"color: #00af00; text-decoration-color: #00af00\">36</span>, <span style=\"color: #00af00; text-decoration-color: #00af00\">256</span>)         │               <span style=\"color: #00af00; text-decoration-color: #00af00\">0</span> │\n",
       "├──────────────────────────────────────┼─────────────────────────────┼─────────────────┤\n",
       "│ conv2d_55 (<span style=\"color: #0087ff; text-decoration-color: #0087ff\">Conv2D</span>)                   │ (<span style=\"color: #00d7ff; text-decoration-color: #00d7ff\">None</span>, <span style=\"color: #00af00; text-decoration-color: #00af00\">41</span>, <span style=\"color: #00af00; text-decoration-color: #00af00\">36</span>, <span style=\"color: #00af00; text-decoration-color: #00af00\">512</span>)         │       <span style=\"color: #00af00; text-decoration-color: #00af00\">1,180,160</span> │\n",
       "├──────────────────────────────────────┼─────────────────────────────┼─────────────────┤\n",
       "│ conv2d_56 (<span style=\"color: #0087ff; text-decoration-color: #0087ff\">Conv2D</span>)                   │ (<span style=\"color: #00d7ff; text-decoration-color: #00d7ff\">None</span>, <span style=\"color: #00af00; text-decoration-color: #00af00\">41</span>, <span style=\"color: #00af00; text-decoration-color: #00af00\">36</span>, <span style=\"color: #00af00; text-decoration-color: #00af00\">512</span>)         │       <span style=\"color: #00af00; text-decoration-color: #00af00\">2,359,808</span> │\n",
       "├──────────────────────────────────────┼─────────────────────────────┼─────────────────┤\n",
       "│ up_sampling2d_17 (<span style=\"color: #0087ff; text-decoration-color: #0087ff\">UpSampling2D</span>)      │ (<span style=\"color: #00d7ff; text-decoration-color: #00d7ff\">None</span>, <span style=\"color: #00af00; text-decoration-color: #00af00\">82</span>, <span style=\"color: #00af00; text-decoration-color: #00af00\">72</span>, <span style=\"color: #00af00; text-decoration-color: #00af00\">512</span>)         │               <span style=\"color: #00af00; text-decoration-color: #00af00\">0</span> │\n",
       "├──────────────────────────────────────┼─────────────────────────────┼─────────────────┤\n",
       "│ conv2d_57 (<span style=\"color: #0087ff; text-decoration-color: #0087ff\">Conv2D</span>)                   │ (<span style=\"color: #00d7ff; text-decoration-color: #00d7ff\">None</span>, <span style=\"color: #00af00; text-decoration-color: #00af00\">82</span>, <span style=\"color: #00af00; text-decoration-color: #00af00\">72</span>, <span style=\"color: #00af00; text-decoration-color: #00af00\">256</span>)         │       <span style=\"color: #00af00; text-decoration-color: #00af00\">1,179,904</span> │\n",
       "├──────────────────────────────────────┼─────────────────────────────┼─────────────────┤\n",
       "│ up_sampling2d_18 (<span style=\"color: #0087ff; text-decoration-color: #0087ff\">UpSampling2D</span>)      │ (<span style=\"color: #00d7ff; text-decoration-color: #00d7ff\">None</span>, <span style=\"color: #00af00; text-decoration-color: #00af00\">164</span>, <span style=\"color: #00af00; text-decoration-color: #00af00\">144</span>, <span style=\"color: #00af00; text-decoration-color: #00af00\">256</span>)       │               <span style=\"color: #00af00; text-decoration-color: #00af00\">0</span> │\n",
       "├──────────────────────────────────────┼─────────────────────────────┼─────────────────┤\n",
       "│ conv2d_58 (<span style=\"color: #0087ff; text-decoration-color: #0087ff\">Conv2D</span>)                   │ (<span style=\"color: #00d7ff; text-decoration-color: #00d7ff\">None</span>, <span style=\"color: #00af00; text-decoration-color: #00af00\">164</span>, <span style=\"color: #00af00; text-decoration-color: #00af00\">144</span>, <span style=\"color: #00af00; text-decoration-color: #00af00\">128</span>)       │         <span style=\"color: #00af00; text-decoration-color: #00af00\">295,040</span> │\n",
       "├──────────────────────────────────────┼─────────────────────────────┼─────────────────┤\n",
       "│ cropping2d_7 (<span style=\"color: #0087ff; text-decoration-color: #0087ff\">Cropping2D</span>)            │ (<span style=\"color: #00d7ff; text-decoration-color: #00d7ff\">None</span>, <span style=\"color: #00af00; text-decoration-color: #00af00\">161</span>, <span style=\"color: #00af00; text-decoration-color: #00af00\">141</span>, <span style=\"color: #00af00; text-decoration-color: #00af00\">128</span>)       │               <span style=\"color: #00af00; text-decoration-color: #00af00\">0</span> │\n",
       "├──────────────────────────────────────┼─────────────────────────────┼─────────────────┤\n",
       "│ conv2d_59 (<span style=\"color: #0087ff; text-decoration-color: #0087ff\">Conv2D</span>)                   │ (<span style=\"color: #00d7ff; text-decoration-color: #00d7ff\">None</span>, <span style=\"color: #00af00; text-decoration-color: #00af00\">161</span>, <span style=\"color: #00af00; text-decoration-color: #00af00\">141</span>, <span style=\"color: #00af00; text-decoration-color: #00af00\">1</span>)         │             <span style=\"color: #00af00; text-decoration-color: #00af00\">129</span> │\n",
       "└──────────────────────────────────────┴─────────────────────────────┴─────────────────┘\n",
       "</pre>\n"
      ],
      "text/plain": [
       "┏━━━━━━━━━━━━━━━━━━━━━━━━━━━━━━━━━━━━━━┳━━━━━━━━━━━━━━━━━━━━━━━━━━━━━┳━━━━━━━━━━━━━━━━━┓\n",
       "┃\u001b[1m \u001b[0m\u001b[1mLayer (type)                        \u001b[0m\u001b[1m \u001b[0m┃\u001b[1m \u001b[0m\u001b[1mOutput Shape               \u001b[0m\u001b[1m \u001b[0m┃\u001b[1m \u001b[0m\u001b[1m        Param #\u001b[0m\u001b[1m \u001b[0m┃\n",
       "┡━━━━━━━━━━━━━━━━━━━━━━━━━━━━━━━━━━━━━━╇━━━━━━━━━━━━━━━━━━━━━━━━━━━━━╇━━━━━━━━━━━━━━━━━┩\n",
       "│ conv2d_53 (\u001b[38;5;33mConv2D\u001b[0m)                   │ (\u001b[38;5;45mNone\u001b[0m, \u001b[38;5;34m161\u001b[0m, \u001b[38;5;34m141\u001b[0m, \u001b[38;5;34m128\u001b[0m)       │           \u001b[38;5;34m2,432\u001b[0m │\n",
       "├──────────────────────────────────────┼─────────────────────────────┼─────────────────┤\n",
       "│ max_pooling2d_17 (\u001b[38;5;33mMaxPooling2D\u001b[0m)      │ (\u001b[38;5;45mNone\u001b[0m, \u001b[38;5;34m81\u001b[0m, \u001b[38;5;34m71\u001b[0m, \u001b[38;5;34m128\u001b[0m)         │               \u001b[38;5;34m0\u001b[0m │\n",
       "├──────────────────────────────────────┼─────────────────────────────┼─────────────────┤\n",
       "│ conv2d_54 (\u001b[38;5;33mConv2D\u001b[0m)                   │ (\u001b[38;5;45mNone\u001b[0m, \u001b[38;5;34m81\u001b[0m, \u001b[38;5;34m71\u001b[0m, \u001b[38;5;34m256\u001b[0m)         │         \u001b[38;5;34m295,168\u001b[0m │\n",
       "├──────────────────────────────────────┼─────────────────────────────┼─────────────────┤\n",
       "│ max_pooling2d_18 (\u001b[38;5;33mMaxPooling2D\u001b[0m)      │ (\u001b[38;5;45mNone\u001b[0m, \u001b[38;5;34m41\u001b[0m, \u001b[38;5;34m36\u001b[0m, \u001b[38;5;34m256\u001b[0m)         │               \u001b[38;5;34m0\u001b[0m │\n",
       "├──────────────────────────────────────┼─────────────────────────────┼─────────────────┤\n",
       "│ dropout_7 (\u001b[38;5;33mDropout\u001b[0m)                  │ (\u001b[38;5;45mNone\u001b[0m, \u001b[38;5;34m41\u001b[0m, \u001b[38;5;34m36\u001b[0m, \u001b[38;5;34m256\u001b[0m)         │               \u001b[38;5;34m0\u001b[0m │\n",
       "├──────────────────────────────────────┼─────────────────────────────┼─────────────────┤\n",
       "│ conv2d_55 (\u001b[38;5;33mConv2D\u001b[0m)                   │ (\u001b[38;5;45mNone\u001b[0m, \u001b[38;5;34m41\u001b[0m, \u001b[38;5;34m36\u001b[0m, \u001b[38;5;34m512\u001b[0m)         │       \u001b[38;5;34m1,180,160\u001b[0m │\n",
       "├──────────────────────────────────────┼─────────────────────────────┼─────────────────┤\n",
       "│ conv2d_56 (\u001b[38;5;33mConv2D\u001b[0m)                   │ (\u001b[38;5;45mNone\u001b[0m, \u001b[38;5;34m41\u001b[0m, \u001b[38;5;34m36\u001b[0m, \u001b[38;5;34m512\u001b[0m)         │       \u001b[38;5;34m2,359,808\u001b[0m │\n",
       "├──────────────────────────────────────┼─────────────────────────────┼─────────────────┤\n",
       "│ up_sampling2d_17 (\u001b[38;5;33mUpSampling2D\u001b[0m)      │ (\u001b[38;5;45mNone\u001b[0m, \u001b[38;5;34m82\u001b[0m, \u001b[38;5;34m72\u001b[0m, \u001b[38;5;34m512\u001b[0m)         │               \u001b[38;5;34m0\u001b[0m │\n",
       "├──────────────────────────────────────┼─────────────────────────────┼─────────────────┤\n",
       "│ conv2d_57 (\u001b[38;5;33mConv2D\u001b[0m)                   │ (\u001b[38;5;45mNone\u001b[0m, \u001b[38;5;34m82\u001b[0m, \u001b[38;5;34m72\u001b[0m, \u001b[38;5;34m256\u001b[0m)         │       \u001b[38;5;34m1,179,904\u001b[0m │\n",
       "├──────────────────────────────────────┼─────────────────────────────┼─────────────────┤\n",
       "│ up_sampling2d_18 (\u001b[38;5;33mUpSampling2D\u001b[0m)      │ (\u001b[38;5;45mNone\u001b[0m, \u001b[38;5;34m164\u001b[0m, \u001b[38;5;34m144\u001b[0m, \u001b[38;5;34m256\u001b[0m)       │               \u001b[38;5;34m0\u001b[0m │\n",
       "├──────────────────────────────────────┼─────────────────────────────┼─────────────────┤\n",
       "│ conv2d_58 (\u001b[38;5;33mConv2D\u001b[0m)                   │ (\u001b[38;5;45mNone\u001b[0m, \u001b[38;5;34m164\u001b[0m, \u001b[38;5;34m144\u001b[0m, \u001b[38;5;34m128\u001b[0m)       │         \u001b[38;5;34m295,040\u001b[0m │\n",
       "├──────────────────────────────────────┼─────────────────────────────┼─────────────────┤\n",
       "│ cropping2d_7 (\u001b[38;5;33mCropping2D\u001b[0m)            │ (\u001b[38;5;45mNone\u001b[0m, \u001b[38;5;34m161\u001b[0m, \u001b[38;5;34m141\u001b[0m, \u001b[38;5;34m128\u001b[0m)       │               \u001b[38;5;34m0\u001b[0m │\n",
       "├──────────────────────────────────────┼─────────────────────────────┼─────────────────┤\n",
       "│ conv2d_59 (\u001b[38;5;33mConv2D\u001b[0m)                   │ (\u001b[38;5;45mNone\u001b[0m, \u001b[38;5;34m161\u001b[0m, \u001b[38;5;34m141\u001b[0m, \u001b[38;5;34m1\u001b[0m)         │             \u001b[38;5;34m129\u001b[0m │\n",
       "└──────────────────────────────────────┴─────────────────────────────┴─────────────────┘\n"
      ]
     },
     "metadata": {},
     "output_type": "display_data"
    },
    {
     "data": {
      "text/html": [
       "<pre style=\"white-space:pre;overflow-x:auto;line-height:normal;font-family:Menlo,'DejaVu Sans Mono',consolas,'Courier New',monospace\"><span style=\"font-weight: bold\"> Total params: </span><span style=\"color: #00af00; text-decoration-color: #00af00\">5,312,641</span> (20.27 MB)\n",
       "</pre>\n"
      ],
      "text/plain": [
       "\u001b[1m Total params: \u001b[0m\u001b[38;5;34m5,312,641\u001b[0m (20.27 MB)\n"
      ]
     },
     "metadata": {},
     "output_type": "display_data"
    },
    {
     "data": {
      "text/html": [
       "<pre style=\"white-space:pre;overflow-x:auto;line-height:normal;font-family:Menlo,'DejaVu Sans Mono',consolas,'Courier New',monospace\"><span style=\"font-weight: bold\"> Trainable params: </span><span style=\"color: #00af00; text-decoration-color: #00af00\">5,312,641</span> (20.27 MB)\n",
       "</pre>\n"
      ],
      "text/plain": [
       "\u001b[1m Trainable params: \u001b[0m\u001b[38;5;34m5,312,641\u001b[0m (20.27 MB)\n"
      ]
     },
     "metadata": {},
     "output_type": "display_data"
    },
    {
     "data": {
      "text/html": [
       "<pre style=\"white-space:pre;overflow-x:auto;line-height:normal;font-family:Menlo,'DejaVu Sans Mono',consolas,'Courier New',monospace\"><span style=\"font-weight: bold\"> Non-trainable params: </span><span style=\"color: #00af00; text-decoration-color: #00af00\">0</span> (0.00 B)\n",
       "</pre>\n"
      ],
      "text/plain": [
       "\u001b[1m Non-trainable params: \u001b[0m\u001b[38;5;34m0\u001b[0m (0.00 B)\n"
      ]
     },
     "metadata": {},
     "output_type": "display_data"
    }
   ],
   "source": [
    "def dice_coefficient(y_true, y_pred, smooth=1e-6):\n",
    "    \"\"\"Dice coefficient for binary segmentation.\"\"\"\n",
    "    y_true_f = K.flatten(y_true)\n",
    "    y_pred_f = K.flatten(y_pred)\n",
    "    intersection = K.sum(K.cast(y_true_f, \"float32\") * y_pred_f)\n",
    "    return (2. * intersection + smooth) / (K.sum(K.cast(y_true_f, \"float32\")) + K.sum(K.cast(y_pred_f, \"float32\")) + smooth)\n",
    "\n",
    "def dice_loss(y_true, y_pred):\n",
    "    \"\"\"Dice loss (1 - Dice coefficient).\"\"\"\n",
    "    return 1 - dice_coefficient(y_true, y_pred)\n",
    "\n",
    "\n",
    "model = Sequential()\n",
    "model.add(Input(shape=(161, 141, 2)))\n",
    "\n",
    "# Encoders\n",
    "# model.add(Conv2D(64, (3, 3), activation=\"relu\", padding=\"same\"))\n",
    "# model.add(MaxPooling2D((2, 2), padding=\"same\"))\n",
    "\n",
    "model.add(Conv2D(128, (3, 3), activation=\"relu\", padding=\"same\"))\n",
    "model.add(MaxPooling2D((2, 2), padding=\"same\"))\n",
    "\n",
    "model.add(Conv2D(256, (3, 3), activation=\"relu\", padding=\"same\"))\n",
    "model.add(MaxPooling2D((2, 2), padding=\"same\"))\n",
    "model.add(Dropout(0.3))\n",
    "\n",
    "# Bottleneck\n",
    "model.add(Conv2D(512, (3, 3), activation=\"relu\", padding=\"same\"))\n",
    "model.add(Conv2D(512, (3, 3), activation=\"relu\", padding=\"same\"))\n",
    "\n",
    "# Decoders\n",
    "model.add(UpSampling2D(size=(2, 2)))\n",
    "model.add(Conv2D(256, (3, 3), activation=\"relu\", padding=\"same\"))\n",
    "\n",
    "model.add(UpSampling2D(size=(2, 2)))\n",
    "model.add(Conv2D(128, (3, 3), activation=\"relu\", padding=\"same\"))\n",
    "\n",
    "# model.add(UpSampling2D(size=(2, 2)))\n",
    "# model.add(Conv2D(64, (3, 3), activation=\"relu\", padding=\"same\"))\n",
    "\n",
    "model.add(Cropping2D(cropping=((2, 1), (2, 1))))\n",
    "model.add(Conv2D(1, (1, 1), activation=\"sigmoid\"))\n",
    "\n",
    "# Compile Model\n",
    "optimizer = Adadelta(learning_rate=1.0, rho=0.95)\n",
    "model.compile(optimizer=optimizer, loss=dice_loss, metrics=[dice_coefficient])\n",
    "model.summary()\n",
    "\n",
    "# Notes: 2025-05-15\n",
    "# The issue here is that BCE is not reliable when there is a class imbalance.\n",
    "# The class pointed here is the 0s and 1s, where 0s dominates 1s.\n",
    "# If you study the data, the annotation of the shearline only draws a very thin line.\n",
    "# This clearly shows that there are more blacks than whites, in simple terms.\n",
    "# So, the model can become more biased to generalize (or predict) more blacks than whites.\n",
    "# This can cause inaccuracies by predicting blacks even if should be a white.\n",
    "# An option is use Focal Loss by which adds more weight to whites (1s) than blacks (0s)\n",
    "# to compensate the imbalance. This requires repeated trials to find the optimal weight.\n",
    "# Simply, focal loss is a strategy to force learning on the under represented class.\n",
    "# Another option is to use DICE loss... It is a sort of another \"accuracy\" metric.\n",
    "# Unlike the generic \"accuarcy\" metric, it only computed on the positive (1s) class,\n",
    "# penalizes FN and FP strongly (ignores TN). Formula below is just for analogy:\n",
    "#  *** Accuracy = (TP + TN) / (TP + TN + FP + FN) ---> works well with balanced classes.\n",
    "#  *** Dice = 2TP / (2TP + FP + FN)               ---> best with imbalanced classes.\n",
    "# On multiple tests, Focal Loss did not perform well, but Dice shown potential for further tests.\n",
    "# The accuracy metric was removed, since it was irrelevant in this study.\n",
    "# Metrics that will be used Dice Loss and Dice Coefficient"
   ]
  },
  {
   "cell_type": "markdown",
   "id": "489f68ca-7e79-46e5-a966-4fd7ac38d62d",
   "metadata": {
    "id": "489f68ca-7e79-46e5-a966-4fd7ac38d62d"
   },
   "source": [
    "### Step 8: Train the Model  \n",
    "\n",
    "Feed the training-val dataset to the compiled CNN model."
   ]
  },
  {
   "cell_type": "code",
   "execution_count": 13,
   "id": "07d37089-07d2-47e2-ab25-dd2553dc96c2",
   "metadata": {
    "colab": {
     "base_uri": "https://localhost:8080/"
    },
    "id": "07d37089-07d2-47e2-ab25-dd2553dc96c2",
    "outputId": "2ff7fbaa-7e25-4c1d-cc17-451ae90175fc"
   },
   "outputs": [
    {
     "name": "stdout",
     "output_type": "stream",
     "text": [
      "Epoch 1/500\n",
      "\u001b[1m20/70\u001b[0m \u001b[32m━━━━━\u001b[0m\u001b[37m━━━━━━━━━━━━━━━\u001b[0m \u001b[1m8:05\u001b[0m 10s/step - dice_coefficient: 0.0036 - loss: 0.9964"
     ]
    },
    {
     "ename": "KeyboardInterrupt",
     "evalue": "",
     "output_type": "error",
     "traceback": [
      "\u001b[31m---------------------------------------------------------------------------\u001b[39m",
      "\u001b[31mKeyboardInterrupt\u001b[39m                         Traceback (most recent call last)",
      "\u001b[36mCell\u001b[39m\u001b[36m \u001b[39m\u001b[32mIn[13]\u001b[39m\u001b[32m, line 17\u001b[39m\n\u001b[32m     13\u001b[39m os.makedirs(ANALYSIS, exist_ok=\u001b[38;5;28;01mTrue\u001b[39;00m)\n\u001b[32m     15\u001b[39m training_timestamp = \u001b[38;5;28mint\u001b[39m(time.time())\n\u001b[32m---> \u001b[39m\u001b[32m17\u001b[39m history = \u001b[43mmodel\u001b[49m\u001b[43m.\u001b[49m\u001b[43mfit\u001b[49m\u001b[43m(\u001b[49m\n\u001b[32m     18\u001b[39m \u001b[43m    \u001b[49m\u001b[43mfeatures_train\u001b[49m\u001b[43m,\u001b[49m\n\u001b[32m     19\u001b[39m \u001b[43m    \u001b[49m\u001b[43mlabels_train\u001b[49m\u001b[43m,\u001b[49m\n\u001b[32m     20\u001b[39m \u001b[43m    \u001b[49m\u001b[43mepochs\u001b[49m\u001b[43m=\u001b[49m\u001b[43mEPOCHS\u001b[49m\u001b[43m,\u001b[49m\n\u001b[32m     21\u001b[39m \u001b[43m    \u001b[49m\u001b[43mbatch_size\u001b[49m\u001b[43m=\u001b[49m\u001b[43mBATCH_SIZE\u001b[49m\u001b[43m,\u001b[49m\n\u001b[32m     22\u001b[39m \u001b[43m    \u001b[49m\u001b[43mvalidation_data\u001b[49m\u001b[43m=\u001b[49m\u001b[43m(\u001b[49m\u001b[43mfeatures_val\u001b[49m\u001b[43m,\u001b[49m\u001b[43m \u001b[49m\u001b[43mlabels_val\u001b[49m\u001b[43m)\u001b[49m\n\u001b[32m     23\u001b[39m \u001b[43m)\u001b[49m\n\u001b[32m     25\u001b[39m training_duration = (\u001b[38;5;28mint\u001b[39m(time.time()) - training_timestamp) / \u001b[32m60\u001b[39m\n\u001b[32m     27\u001b[39m \u001b[38;5;28mprint\u001b[39m(\u001b[33mf\u001b[39m\u001b[33m\"\u001b[39m\u001b[33mTraining completed in \u001b[39m\u001b[38;5;132;01m{\u001b[39;00mtraining_duration\u001b[38;5;132;01m:\u001b[39;00m\u001b[33m.2f\u001b[39m\u001b[38;5;132;01m}\u001b[39;00m\u001b[33m minutes.\u001b[39m\u001b[33m\"\u001b[39m)\n",
      "\u001b[36mFile \u001b[39m\u001b[32mC:\\drive\\notebooks\\work\\vsu-dcst\\03 RDE\\24 1111 Parages ShearLine CNN (BSMet)\\ShearLineCNN\\env\\Lib\\site-packages\\keras\\src\\utils\\traceback_utils.py:117\u001b[39m, in \u001b[36mfilter_traceback.<locals>.error_handler\u001b[39m\u001b[34m(*args, **kwargs)\u001b[39m\n\u001b[32m    115\u001b[39m filtered_tb = \u001b[38;5;28;01mNone\u001b[39;00m\n\u001b[32m    116\u001b[39m \u001b[38;5;28;01mtry\u001b[39;00m:\n\u001b[32m--> \u001b[39m\u001b[32m117\u001b[39m     \u001b[38;5;28;01mreturn\u001b[39;00m \u001b[43mfn\u001b[49m\u001b[43m(\u001b[49m\u001b[43m*\u001b[49m\u001b[43margs\u001b[49m\u001b[43m,\u001b[49m\u001b[43m \u001b[49m\u001b[43m*\u001b[49m\u001b[43m*\u001b[49m\u001b[43mkwargs\u001b[49m\u001b[43m)\u001b[49m\n\u001b[32m    118\u001b[39m \u001b[38;5;28;01mexcept\u001b[39;00m \u001b[38;5;167;01mException\u001b[39;00m \u001b[38;5;28;01mas\u001b[39;00m e:\n\u001b[32m    119\u001b[39m     filtered_tb = _process_traceback_frames(e.__traceback__)\n",
      "\u001b[36mFile \u001b[39m\u001b[32mC:\\drive\\notebooks\\work\\vsu-dcst\\03 RDE\\24 1111 Parages ShearLine CNN (BSMet)\\ShearLineCNN\\env\\Lib\\site-packages\\keras\\src\\backend\\tensorflow\\trainer.py:371\u001b[39m, in \u001b[36mTensorFlowTrainer.fit\u001b[39m\u001b[34m(self, x, y, batch_size, epochs, verbose, callbacks, validation_split, validation_data, shuffle, class_weight, sample_weight, initial_epoch, steps_per_epoch, validation_steps, validation_batch_size, validation_freq)\u001b[39m\n\u001b[32m    369\u001b[39m \u001b[38;5;28;01mfor\u001b[39;00m step, iterator \u001b[38;5;129;01min\u001b[39;00m epoch_iterator:\n\u001b[32m    370\u001b[39m     callbacks.on_train_batch_begin(step)\n\u001b[32m--> \u001b[39m\u001b[32m371\u001b[39m     logs = \u001b[38;5;28;43mself\u001b[39;49m\u001b[43m.\u001b[49m\u001b[43mtrain_function\u001b[49m\u001b[43m(\u001b[49m\u001b[43miterator\u001b[49m\u001b[43m)\u001b[49m\n\u001b[32m    372\u001b[39m     callbacks.on_train_batch_end(step, logs)\n\u001b[32m    373\u001b[39m     \u001b[38;5;28;01mif\u001b[39;00m \u001b[38;5;28mself\u001b[39m.stop_training:\n",
      "\u001b[36mFile \u001b[39m\u001b[32mC:\\drive\\notebooks\\work\\vsu-dcst\\03 RDE\\24 1111 Parages ShearLine CNN (BSMet)\\ShearLineCNN\\env\\Lib\\site-packages\\keras\\src\\backend\\tensorflow\\trainer.py:219\u001b[39m, in \u001b[36mTensorFlowTrainer._make_function.<locals>.function\u001b[39m\u001b[34m(iterator)\u001b[39m\n\u001b[32m    215\u001b[39m \u001b[38;5;28;01mdef\u001b[39;00m\u001b[38;5;250m \u001b[39m\u001b[34mfunction\u001b[39m(iterator):\n\u001b[32m    216\u001b[39m     \u001b[38;5;28;01mif\u001b[39;00m \u001b[38;5;28misinstance\u001b[39m(\n\u001b[32m    217\u001b[39m         iterator, (tf.data.Iterator, tf.distribute.DistributedIterator)\n\u001b[32m    218\u001b[39m     ):\n\u001b[32m--> \u001b[39m\u001b[32m219\u001b[39m         opt_outputs = \u001b[43mmulti_step_on_iterator\u001b[49m\u001b[43m(\u001b[49m\u001b[43miterator\u001b[49m\u001b[43m)\u001b[49m\n\u001b[32m    220\u001b[39m         \u001b[38;5;28;01mif\u001b[39;00m \u001b[38;5;129;01mnot\u001b[39;00m opt_outputs.has_value():\n\u001b[32m    221\u001b[39m             \u001b[38;5;28;01mraise\u001b[39;00m \u001b[38;5;167;01mStopIteration\u001b[39;00m\n",
      "\u001b[36mFile \u001b[39m\u001b[32mC:\\drive\\notebooks\\work\\vsu-dcst\\03 RDE\\24 1111 Parages ShearLine CNN (BSMet)\\ShearLineCNN\\env\\Lib\\site-packages\\tensorflow\\python\\util\\traceback_utils.py:150\u001b[39m, in \u001b[36mfilter_traceback.<locals>.error_handler\u001b[39m\u001b[34m(*args, **kwargs)\u001b[39m\n\u001b[32m    148\u001b[39m filtered_tb = \u001b[38;5;28;01mNone\u001b[39;00m\n\u001b[32m    149\u001b[39m \u001b[38;5;28;01mtry\u001b[39;00m:\n\u001b[32m--> \u001b[39m\u001b[32m150\u001b[39m   \u001b[38;5;28;01mreturn\u001b[39;00m \u001b[43mfn\u001b[49m\u001b[43m(\u001b[49m\u001b[43m*\u001b[49m\u001b[43margs\u001b[49m\u001b[43m,\u001b[49m\u001b[43m \u001b[49m\u001b[43m*\u001b[49m\u001b[43m*\u001b[49m\u001b[43mkwargs\u001b[49m\u001b[43m)\u001b[49m\n\u001b[32m    151\u001b[39m \u001b[38;5;28;01mexcept\u001b[39;00m \u001b[38;5;167;01mException\u001b[39;00m \u001b[38;5;28;01mas\u001b[39;00m e:\n\u001b[32m    152\u001b[39m   filtered_tb = _process_traceback_frames(e.__traceback__)\n",
      "\u001b[36mFile \u001b[39m\u001b[32mC:\\drive\\notebooks\\work\\vsu-dcst\\03 RDE\\24 1111 Parages ShearLine CNN (BSMet)\\ShearLineCNN\\env\\Lib\\site-packages\\tensorflow\\python\\eager\\polymorphic_function\\polymorphic_function.py:833\u001b[39m, in \u001b[36mFunction.__call__\u001b[39m\u001b[34m(self, *args, **kwds)\u001b[39m\n\u001b[32m    830\u001b[39m compiler = \u001b[33m\"\u001b[39m\u001b[33mxla\u001b[39m\u001b[33m\"\u001b[39m \u001b[38;5;28;01mif\u001b[39;00m \u001b[38;5;28mself\u001b[39m._jit_compile \u001b[38;5;28;01melse\u001b[39;00m \u001b[33m\"\u001b[39m\u001b[33mnonXla\u001b[39m\u001b[33m\"\u001b[39m\n\u001b[32m    832\u001b[39m \u001b[38;5;28;01mwith\u001b[39;00m OptionalXlaContext(\u001b[38;5;28mself\u001b[39m._jit_compile):\n\u001b[32m--> \u001b[39m\u001b[32m833\u001b[39m   result = \u001b[38;5;28;43mself\u001b[39;49m\u001b[43m.\u001b[49m\u001b[43m_call\u001b[49m\u001b[43m(\u001b[49m\u001b[43m*\u001b[49m\u001b[43margs\u001b[49m\u001b[43m,\u001b[49m\u001b[43m \u001b[49m\u001b[43m*\u001b[49m\u001b[43m*\u001b[49m\u001b[43mkwds\u001b[49m\u001b[43m)\u001b[49m\n\u001b[32m    835\u001b[39m new_tracing_count = \u001b[38;5;28mself\u001b[39m.experimental_get_tracing_count()\n\u001b[32m    836\u001b[39m without_tracing = (tracing_count == new_tracing_count)\n",
      "\u001b[36mFile \u001b[39m\u001b[32mC:\\drive\\notebooks\\work\\vsu-dcst\\03 RDE\\24 1111 Parages ShearLine CNN (BSMet)\\ShearLineCNN\\env\\Lib\\site-packages\\tensorflow\\python\\eager\\polymorphic_function\\polymorphic_function.py:878\u001b[39m, in \u001b[36mFunction._call\u001b[39m\u001b[34m(self, *args, **kwds)\u001b[39m\n\u001b[32m    875\u001b[39m \u001b[38;5;28mself\u001b[39m._lock.release()\n\u001b[32m    876\u001b[39m \u001b[38;5;66;03m# In this case we have not created variables on the first call. So we can\u001b[39;00m\n\u001b[32m    877\u001b[39m \u001b[38;5;66;03m# run the first trace but we should fail if variables are created.\u001b[39;00m\n\u001b[32m--> \u001b[39m\u001b[32m878\u001b[39m results = \u001b[43mtracing_compilation\u001b[49m\u001b[43m.\u001b[49m\u001b[43mcall_function\u001b[49m\u001b[43m(\u001b[49m\n\u001b[32m    879\u001b[39m \u001b[43m    \u001b[49m\u001b[43margs\u001b[49m\u001b[43m,\u001b[49m\u001b[43m \u001b[49m\u001b[43mkwds\u001b[49m\u001b[43m,\u001b[49m\u001b[43m \u001b[49m\u001b[38;5;28;43mself\u001b[39;49m\u001b[43m.\u001b[49m\u001b[43m_variable_creation_config\u001b[49m\n\u001b[32m    880\u001b[39m \u001b[43m\u001b[49m\u001b[43m)\u001b[49m\n\u001b[32m    881\u001b[39m \u001b[38;5;28;01mif\u001b[39;00m \u001b[38;5;28mself\u001b[39m._created_variables:\n\u001b[32m    882\u001b[39m   \u001b[38;5;28;01mraise\u001b[39;00m \u001b[38;5;167;01mValueError\u001b[39;00m(\u001b[33m\"\u001b[39m\u001b[33mCreating variables on a non-first call to a function\u001b[39m\u001b[33m\"\u001b[39m\n\u001b[32m    883\u001b[39m                    \u001b[33m\"\u001b[39m\u001b[33m decorated with tf.function.\u001b[39m\u001b[33m\"\u001b[39m)\n",
      "\u001b[36mFile \u001b[39m\u001b[32mC:\\drive\\notebooks\\work\\vsu-dcst\\03 RDE\\24 1111 Parages ShearLine CNN (BSMet)\\ShearLineCNN\\env\\Lib\\site-packages\\tensorflow\\python\\eager\\polymorphic_function\\tracing_compilation.py:139\u001b[39m, in \u001b[36mcall_function\u001b[39m\u001b[34m(args, kwargs, tracing_options)\u001b[39m\n\u001b[32m    137\u001b[39m bound_args = function.function_type.bind(*args, **kwargs)\n\u001b[32m    138\u001b[39m flat_inputs = function.function_type.unpack_inputs(bound_args)\n\u001b[32m--> \u001b[39m\u001b[32m139\u001b[39m \u001b[38;5;28;01mreturn\u001b[39;00m \u001b[43mfunction\u001b[49m\u001b[43m.\u001b[49m\u001b[43m_call_flat\u001b[49m\u001b[43m(\u001b[49m\u001b[43m  \u001b[49m\u001b[38;5;66;43;03m# pylint: disable=protected-access\u001b[39;49;00m\n\u001b[32m    140\u001b[39m \u001b[43m    \u001b[49m\u001b[43mflat_inputs\u001b[49m\u001b[43m,\u001b[49m\u001b[43m \u001b[49m\u001b[43mcaptured_inputs\u001b[49m\u001b[43m=\u001b[49m\u001b[43mfunction\u001b[49m\u001b[43m.\u001b[49m\u001b[43mcaptured_inputs\u001b[49m\n\u001b[32m    141\u001b[39m \u001b[43m\u001b[49m\u001b[43m)\u001b[49m\n",
      "\u001b[36mFile \u001b[39m\u001b[32mC:\\drive\\notebooks\\work\\vsu-dcst\\03 RDE\\24 1111 Parages ShearLine CNN (BSMet)\\ShearLineCNN\\env\\Lib\\site-packages\\tensorflow\\python\\eager\\polymorphic_function\\concrete_function.py:1322\u001b[39m, in \u001b[36mConcreteFunction._call_flat\u001b[39m\u001b[34m(self, tensor_inputs, captured_inputs)\u001b[39m\n\u001b[32m   1318\u001b[39m possible_gradient_type = gradients_util.PossibleTapeGradientTypes(args)\n\u001b[32m   1319\u001b[39m \u001b[38;5;28;01mif\u001b[39;00m (possible_gradient_type == gradients_util.POSSIBLE_GRADIENT_TYPES_NONE\n\u001b[32m   1320\u001b[39m     \u001b[38;5;129;01mand\u001b[39;00m executing_eagerly):\n\u001b[32m   1321\u001b[39m   \u001b[38;5;66;03m# No tape is watching; skip to running the function.\u001b[39;00m\n\u001b[32m-> \u001b[39m\u001b[32m1322\u001b[39m   \u001b[38;5;28;01mreturn\u001b[39;00m \u001b[38;5;28;43mself\u001b[39;49m\u001b[43m.\u001b[49m\u001b[43m_inference_function\u001b[49m\u001b[43m.\u001b[49m\u001b[43mcall_preflattened\u001b[49m\u001b[43m(\u001b[49m\u001b[43margs\u001b[49m\u001b[43m)\u001b[49m\n\u001b[32m   1323\u001b[39m forward_backward = \u001b[38;5;28mself\u001b[39m._select_forward_and_backward_functions(\n\u001b[32m   1324\u001b[39m     args,\n\u001b[32m   1325\u001b[39m     possible_gradient_type,\n\u001b[32m   1326\u001b[39m     executing_eagerly)\n\u001b[32m   1327\u001b[39m forward_function, args_with_tangents = forward_backward.forward()\n",
      "\u001b[36mFile \u001b[39m\u001b[32mC:\\drive\\notebooks\\work\\vsu-dcst\\03 RDE\\24 1111 Parages ShearLine CNN (BSMet)\\ShearLineCNN\\env\\Lib\\site-packages\\tensorflow\\python\\eager\\polymorphic_function\\atomic_function.py:216\u001b[39m, in \u001b[36mAtomicFunction.call_preflattened\u001b[39m\u001b[34m(self, args)\u001b[39m\n\u001b[32m    214\u001b[39m \u001b[38;5;28;01mdef\u001b[39;00m\u001b[38;5;250m \u001b[39m\u001b[34mcall_preflattened\u001b[39m(\u001b[38;5;28mself\u001b[39m, args: Sequence[core.Tensor]) -> Any:\n\u001b[32m    215\u001b[39m \u001b[38;5;250m  \u001b[39m\u001b[33;03m\"\"\"Calls with flattened tensor inputs and returns the structured output.\"\"\"\u001b[39;00m\n\u001b[32m--> \u001b[39m\u001b[32m216\u001b[39m   flat_outputs = \u001b[38;5;28;43mself\u001b[39;49m\u001b[43m.\u001b[49m\u001b[43mcall_flat\u001b[49m\u001b[43m(\u001b[49m\u001b[43m*\u001b[49m\u001b[43margs\u001b[49m\u001b[43m)\u001b[49m\n\u001b[32m    217\u001b[39m   \u001b[38;5;28;01mreturn\u001b[39;00m \u001b[38;5;28mself\u001b[39m.function_type.pack_output(flat_outputs)\n",
      "\u001b[36mFile \u001b[39m\u001b[32mC:\\drive\\notebooks\\work\\vsu-dcst\\03 RDE\\24 1111 Parages ShearLine CNN (BSMet)\\ShearLineCNN\\env\\Lib\\site-packages\\tensorflow\\python\\eager\\polymorphic_function\\atomic_function.py:251\u001b[39m, in \u001b[36mAtomicFunction.call_flat\u001b[39m\u001b[34m(self, *args)\u001b[39m\n\u001b[32m    249\u001b[39m \u001b[38;5;28;01mwith\u001b[39;00m record.stop_recording():\n\u001b[32m    250\u001b[39m   \u001b[38;5;28;01mif\u001b[39;00m \u001b[38;5;28mself\u001b[39m._bound_context.executing_eagerly():\n\u001b[32m--> \u001b[39m\u001b[32m251\u001b[39m     outputs = \u001b[38;5;28;43mself\u001b[39;49m\u001b[43m.\u001b[49m\u001b[43m_bound_context\u001b[49m\u001b[43m.\u001b[49m\u001b[43mcall_function\u001b[49m\u001b[43m(\u001b[49m\n\u001b[32m    252\u001b[39m \u001b[43m        \u001b[49m\u001b[38;5;28;43mself\u001b[39;49m\u001b[43m.\u001b[49m\u001b[43mname\u001b[49m\u001b[43m,\u001b[49m\n\u001b[32m    253\u001b[39m \u001b[43m        \u001b[49m\u001b[38;5;28;43mlist\u001b[39;49m\u001b[43m(\u001b[49m\u001b[43margs\u001b[49m\u001b[43m)\u001b[49m\u001b[43m,\u001b[49m\n\u001b[32m    254\u001b[39m \u001b[43m        \u001b[49m\u001b[38;5;28;43mlen\u001b[39;49m\u001b[43m(\u001b[49m\u001b[38;5;28;43mself\u001b[39;49m\u001b[43m.\u001b[49m\u001b[43mfunction_type\u001b[49m\u001b[43m.\u001b[49m\u001b[43mflat_outputs\u001b[49m\u001b[43m)\u001b[49m\u001b[43m,\u001b[49m\n\u001b[32m    255\u001b[39m \u001b[43m    \u001b[49m\u001b[43m)\u001b[49m\n\u001b[32m    256\u001b[39m   \u001b[38;5;28;01melse\u001b[39;00m:\n\u001b[32m    257\u001b[39m     outputs = make_call_op_in_graph(\n\u001b[32m    258\u001b[39m         \u001b[38;5;28mself\u001b[39m,\n\u001b[32m    259\u001b[39m         \u001b[38;5;28mlist\u001b[39m(args),\n\u001b[32m    260\u001b[39m         \u001b[38;5;28mself\u001b[39m._bound_context.function_call_options.as_attrs(),\n\u001b[32m    261\u001b[39m     )\n",
      "\u001b[36mFile \u001b[39m\u001b[32mC:\\drive\\notebooks\\work\\vsu-dcst\\03 RDE\\24 1111 Parages ShearLine CNN (BSMet)\\ShearLineCNN\\env\\Lib\\site-packages\\tensorflow\\python\\eager\\context.py:1688\u001b[39m, in \u001b[36mContext.call_function\u001b[39m\u001b[34m(self, name, tensor_inputs, num_outputs)\u001b[39m\n\u001b[32m   1686\u001b[39m cancellation_context = cancellation.context()\n\u001b[32m   1687\u001b[39m \u001b[38;5;28;01mif\u001b[39;00m cancellation_context \u001b[38;5;129;01mis\u001b[39;00m \u001b[38;5;28;01mNone\u001b[39;00m:\n\u001b[32m-> \u001b[39m\u001b[32m1688\u001b[39m   outputs = \u001b[43mexecute\u001b[49m\u001b[43m.\u001b[49m\u001b[43mexecute\u001b[49m\u001b[43m(\u001b[49m\n\u001b[32m   1689\u001b[39m \u001b[43m      \u001b[49m\u001b[43mname\u001b[49m\u001b[43m.\u001b[49m\u001b[43mdecode\u001b[49m\u001b[43m(\u001b[49m\u001b[33;43m\"\u001b[39;49m\u001b[33;43mutf-8\u001b[39;49m\u001b[33;43m\"\u001b[39;49m\u001b[43m)\u001b[49m\u001b[43m,\u001b[49m\n\u001b[32m   1690\u001b[39m \u001b[43m      \u001b[49m\u001b[43mnum_outputs\u001b[49m\u001b[43m=\u001b[49m\u001b[43mnum_outputs\u001b[49m\u001b[43m,\u001b[49m\n\u001b[32m   1691\u001b[39m \u001b[43m      \u001b[49m\u001b[43minputs\u001b[49m\u001b[43m=\u001b[49m\u001b[43mtensor_inputs\u001b[49m\u001b[43m,\u001b[49m\n\u001b[32m   1692\u001b[39m \u001b[43m      \u001b[49m\u001b[43mattrs\u001b[49m\u001b[43m=\u001b[49m\u001b[43mattrs\u001b[49m\u001b[43m,\u001b[49m\n\u001b[32m   1693\u001b[39m \u001b[43m      \u001b[49m\u001b[43mctx\u001b[49m\u001b[43m=\u001b[49m\u001b[38;5;28;43mself\u001b[39;49m\u001b[43m,\u001b[49m\n\u001b[32m   1694\u001b[39m \u001b[43m  \u001b[49m\u001b[43m)\u001b[49m\n\u001b[32m   1695\u001b[39m \u001b[38;5;28;01melse\u001b[39;00m:\n\u001b[32m   1696\u001b[39m   outputs = execute.execute_with_cancellation(\n\u001b[32m   1697\u001b[39m       name.decode(\u001b[33m\"\u001b[39m\u001b[33mutf-8\u001b[39m\u001b[33m\"\u001b[39m),\n\u001b[32m   1698\u001b[39m       num_outputs=num_outputs,\n\u001b[32m   (...)\u001b[39m\u001b[32m   1702\u001b[39m       cancellation_manager=cancellation_context,\n\u001b[32m   1703\u001b[39m   )\n",
      "\u001b[36mFile \u001b[39m\u001b[32mC:\\drive\\notebooks\\work\\vsu-dcst\\03 RDE\\24 1111 Parages ShearLine CNN (BSMet)\\ShearLineCNN\\env\\Lib\\site-packages\\tensorflow\\python\\eager\\execute.py:53\u001b[39m, in \u001b[36mquick_execute\u001b[39m\u001b[34m(op_name, num_outputs, inputs, attrs, ctx, name)\u001b[39m\n\u001b[32m     51\u001b[39m \u001b[38;5;28;01mtry\u001b[39;00m:\n\u001b[32m     52\u001b[39m   ctx.ensure_initialized()\n\u001b[32m---> \u001b[39m\u001b[32m53\u001b[39m   tensors = \u001b[43mpywrap_tfe\u001b[49m\u001b[43m.\u001b[49m\u001b[43mTFE_Py_Execute\u001b[49m\u001b[43m(\u001b[49m\u001b[43mctx\u001b[49m\u001b[43m.\u001b[49m\u001b[43m_handle\u001b[49m\u001b[43m,\u001b[49m\u001b[43m \u001b[49m\u001b[43mdevice_name\u001b[49m\u001b[43m,\u001b[49m\u001b[43m \u001b[49m\u001b[43mop_name\u001b[49m\u001b[43m,\u001b[49m\n\u001b[32m     54\u001b[39m \u001b[43m                                      \u001b[49m\u001b[43minputs\u001b[49m\u001b[43m,\u001b[49m\u001b[43m \u001b[49m\u001b[43mattrs\u001b[49m\u001b[43m,\u001b[49m\u001b[43m \u001b[49m\u001b[43mnum_outputs\u001b[49m\u001b[43m)\u001b[49m\n\u001b[32m     55\u001b[39m \u001b[38;5;28;01mexcept\u001b[39;00m core._NotOkStatusException \u001b[38;5;28;01mas\u001b[39;00m e:\n\u001b[32m     56\u001b[39m   \u001b[38;5;28;01mif\u001b[39;00m name \u001b[38;5;129;01mis\u001b[39;00m \u001b[38;5;129;01mnot\u001b[39;00m \u001b[38;5;28;01mNone\u001b[39;00m:\n",
      "\u001b[31mKeyboardInterrupt\u001b[39m: "
     ]
    }
   ],
   "source": [
    "warnings.filterwarnings(\"ignore\", category=UserWarning, message=\"warn\")\n",
    "\n",
    "EPOCHS = 500    # Increase to 100/200/500/1000 epochs in actual run\n",
    "BATCH_SIZE = 8  # Increase to 8/16/32 epochs in actual run\n",
    "ARCHITECTURE = \"CNN\"\n",
    "\n",
    "MODELS = \"models\"\n",
    "ANALYSIS = \"analysis\"\n",
    "DATASET = \"data\"\n",
    "TEST = \"test\"\n",
    "\n",
    "os.makedirs(MODELS, exist_ok=True)\n",
    "os.makedirs(ANALYSIS, exist_ok=True)\n",
    "\n",
    "training_timestamp = int(time.time())\n",
    "\n",
    "history = model.fit(\n",
    "    features_train,\n",
    "    labels_train,\n",
    "    epochs=EPOCHS,\n",
    "    batch_size=BATCH_SIZE,\n",
    "    validation_data=(features_val, labels_val)\n",
    ")\n",
    "\n",
    "training_duration = (int(time.time()) - training_timestamp) / 60\n",
    "\n",
    "print(f\"Training completed in {training_duration:.2f} minutes.\")\n",
    "\n",
    "fullpath = f\"{MODELS}/shearline.{ARCHITECTURE}_{training_timestamp}.keras\"\n",
    "model.save(fullpath)\n",
    "\n",
    "with open(f\"{ANALYSIS}/metrics_{training_timestamp}.json\", \"w\") as f:\n",
    "    json.dump({\n",
    "        \"loss\": history.history[\"loss\"],\n",
    "        \"dice_coefficient\": history.history[\"dice_coefficient\"],\n",
    "        \"val_loss\": history.history[\"val_loss\"],\n",
    "        \"val_dice_coefficient\": history.history[\"val_dice_coefficient\"]\n",
    "    }, f, indent=4)\n",
    "\n",
    "print(f\"Model training complete and saved to '{fullpath}'\")\n",
    "print(f\"Training and validation metrics saved to '{ANALYSIS}/metrics_{training_timestamp}.json'\")"
   ]
  },
  {
   "cell_type": "markdown",
   "id": "340c1868-d11e-4eb8-a7b9-7395f672c51a",
   "metadata": {
    "id": "340c1868-d11e-4eb8-a7b9-7395f672c51a"
   },
   "source": [
    "## Step 9: Generate Training Analysis  \n",
    "\n",
    "**Metrics Definitions**\n",
    "* Loss is computed based on how far each prediction is from the ground truth, specifically using Dice Loss.\n",
    "* Dice Coefficient is a specific type of accuracy, focused on the positive class--best for imbalanced datasets.  "
   ]
  },
  {
   "cell_type": "code",
   "execution_count": 33,
   "id": "838ae30e-0e40-4505-aa94-d15ac9f3b35a",
   "metadata": {
    "colab": {
     "base_uri": "https://localhost:8080/",
     "height": 1000
    },
    "id": "838ae30e-0e40-4505-aa94-d15ac9f3b35a",
    "outputId": "4151532c-574f-404e-a1e7-c6cfcf1c5f6c"
   },
   "outputs": [
    {
     "data": {
      "image/png": "[encoded data removed]",
      "text/plain": [
       "<Figure size 800x600 with 1 Axes>"
      ]
     },
     "metadata": {},
     "output_type": "display_data"
    },
    {
     "data": {
      "image/png": "[encoded data removed]",
      "text/plain": [
       "<Figure size 800x600 with 1 Axes>"
      ]
     },
     "metadata": {},
     "output_type": "display_data"
    },
    {
     "name": "stdout",
     "output_type": "stream",
     "text": [
      "\n",
      "Plots saved to analysis\n"
     ]
    }
   ],
   "source": [
    "import seaborn as sns\n",
    "import matplotlib.pyplot as plt\n",
    "\n",
    "\n",
    "with open(f\"{ANALYSIS}/metrics_{training_timestamp}.json\", \"r\") as f:\n",
    "    metrics = json.load(f)\n",
    "\n",
    "epochs = range(1, len(metrics[\"loss\"]) + 1)\n",
    "\n",
    "plt.figure(figsize=(8, 6))\n",
    "sns.lineplot(x=epochs, y=metrics[\"loss\"], label=\"Training Dice Loss\", color=\"blue\")\n",
    "sns.lineplot(x=epochs, y=metrics[\"val_loss\"], label=\"Validation Dice Loss\", color=\"orange\")\n",
    "plt.title(\"Dice Loss vs. Epochs\")\n",
    "plt.xlabel(\"Epochs\")\n",
    "plt.ylabel(\"Dice Loss\")\n",
    "plt.legend()\n",
    "plt.grid(True)\n",
    "plt.savefig(f\"{ANALYSIS}/dice_loss_plot_{training_timestamp}.png\")\n",
    "plt.show()\n",
    "\n",
    "plt.figure(figsize=(8, 6))\n",
    "sns.lineplot(x=epochs, y=metrics[\"dice_coefficient\"], label=\"Training Dice Coefficient\", color=\"green\")\n",
    "sns.lineplot(x=epochs, y=metrics[\"val_dice_coefficient\"], label=\"Validation Dice Coefficient\", color=\"red\")\n",
    "plt.title(\"Dice Coefficient vs. Epochs\")\n",
    "plt.xlabel(\"Epochs\")\n",
    "plt.ylabel(\"Dice Coefficient\")\n",
    "plt.legend()\n",
    "plt.grid(True)\n",
    "plt.savefig(f\"{ANALYSIS}/dice_coefficient_plot_{training_timestamp}.png\")\n",
    "plt.show()\n",
    "\n",
    "print(f\"\\nPlots saved to {ANALYSIS}\")"
   ]
  },
  {
   "cell_type": "markdown",
   "id": "b04709c7-826a-405e-aad1-8dcf59acad51",
   "metadata": {
    "id": "b04709c7-826a-405e-aad1-8dcf59acad51"
   },
   "source": [
    "## Step 10: Test the Model"
   ]
  },
  {
   "cell_type": "code",
   "execution_count": 34,
   "id": "3994e241-f4d0-4587-947d-9eb50bdcb7a6",
   "metadata": {
    "colab": {
     "base_uri": "https://localhost:8080/"
    },
    "id": "3994e241-f4d0-4587-947d-9eb50bdcb7a6",
    "outputId": "82057aa7-5848-4d96-80cd-133c035cd00a"
   },
   "outputs": [
    {
     "name": "stdout",
     "output_type": "stream",
     "text": [
      "\u001b[1m3/3\u001b[0m \u001b[32m━━━━━━━━━━━━━━━━━━━━\u001b[0m\u001b[37m\u001b[0m \u001b[1m2s\u001b[0m 568ms/step\n",
      "Total prediction time: 1.8803 seconds\n",
      "Time per image: 0.0232 seconds\n"
     ]
    }
   ],
   "source": [
    "start_time = time.time()\n",
    "results = model.predict(features_test, verbose=1)\n",
    "prediction_duration = time.time() - start_time\n",
    "image_prediction_time = prediction_duration / len(features_test)\n",
    "\n",
    "predictions = (results.squeeze(-1) > 0.5).astype(\"int32\")\n",
    "predictions_flat = predictions.flatten()\n",
    "labels_test_flat = labels_test.flatten()\n",
    "\n",
    "print(f\"Total prediction time: {prediction_duration:.4f} seconds\")\n",
    "print(f\"Time per image: {image_prediction_time:.4f} seconds\")"
   ]
  },
  {
   "cell_type": "markdown",
   "id": "c5bd7c38-2cc2-4ea2-b4db-26f7663063ba",
   "metadata": {
    "id": "c5bd7c38-2cc2-4ea2-b4db-26f7663063ba"
   },
   "source": [
    "## Step 11: Display the Results"
   ]
  },
  {
   "cell_type": "code",
   "execution_count": null,
   "id": "8fca587a-9287-453d-b86c-1023af269c92",
   "metadata": {
    "colab": {
     "base_uri": "https://localhost:8080/",
     "height": 1000
    },
    "id": "8fca587a-9287-453d-b86c-1023af269c92",
    "outputId": "e4ea8e9c-33ad-4c46-b141-d2ea86968f39",
    "scrolled": true
   },
   "outputs": [],
   "source": [
    "import numpy as np\n",
    "import matplotlib.pyplot as plt\n",
    "from tabulate import tabulate\n",
    "\n",
    "def visualize_comparison(filename, true_mask, predicted_mask):\n",
    "    plt.figure(figsize=(12, 6))\n",
    "\n",
    "    plt.subplot(1, 2, 1)\n",
    "    plt.imshow(true_mask, cmap=\"gray\")\n",
    "    plt.title(f\"True Mask: {filename}\")\n",
    "    plt.axis(\"off\")\n",
    "\n",
    "    plt.subplot(1, 2, 2)\n",
    "    plt.imshow(predicted_mask, cmap=\"gray\")\n",
    "    plt.title(f\"Predicted Mask: {filename}\")\n",
    "    plt.axis(\"off\")\n",
    "\n",
    "    plt.show()\n",
    "\n",
    "for filename, true_mask, predicted_mask in zip(basenames_test, labels_test, predictions):\n",
    "    visualize_comparison(filename, true_mask, predicted_mask)"
   ]
  },
  {
   "cell_type": "markdown",
   "id": "479984a7-a80d-49ab-96d5-e6ab8bb9e9c9",
   "metadata": {
    "id": "479984a7-a80d-49ab-96d5-e6ab8bb9e9c9"
   },
   "source": [
    "## Step 12: Pixel-wise Segmentation Evaluation\n",
    "\n",
    "> Evaluate the spatial map accuracy of predicted shear line binary mask using segmentation metrics."
   ]
  },
  {
   "cell_type": "code",
   "execution_count": null,
   "id": "5cb56799-76ed-45a8-96d4-5dfcd015577f",
   "metadata": {
    "colab": {
     "base_uri": "https://localhost:8080/",
     "height": 550
    },
    "id": "5cb56799-76ed-45a8-96d4-5dfcd015577f",
    "outputId": "52486f39-395a-461b-d5ed-27fe9e6209fc"
   },
   "outputs": [],
   "source": [
    "import numpy as np\n",
    "import matplotlib.pyplot as plt\n",
    "from sklearn.metrics import confusion_matrix, ConfusionMatrixDisplay\n",
    "\n",
    "def iou(y_true, y_pred):\n",
    "    intersection = np.logical_and(y_true.astype(bool), y_pred.astype(bool)).sum()\n",
    "    union = np.logical_or(y_true.astype(bool), y_pred.astype(bool)).sum()\n",
    "    return intersection / union if union > 0 else 0.0\n",
    "\n",
    "def dice(y_true, y_pred):\n",
    "    intersection = np.logical_and(y_true.astype(bool), y_pred.astype(bool)).sum()\n",
    "    denominator = y_true.astype(bool).sum() + y_pred.astype(bool).sum()\n",
    "    return 2 * intersection / denominator if denominator > 0 else 0.0\n",
    "\n",
    "ious = []\n",
    "dices = []\n",
    "accuracies = []\n",
    "\n",
    "for t_mask, p_mask in zip(labels_test, predictions):\n",
    "    t_mask = t_mask.reshape(161, 141)\n",
    "    p_mask = p_mask.reshape(161, 141)\n",
    "\n",
    "    ious.append(iou(t_mask, p_mask))\n",
    "    dices.append(dice(t_mask, p_mask))\n",
    "    accuracies.append(np.mean(t_mask.flatten() == p_mask.flatten()))\n",
    "\n",
    "iou_score = np.mean(ious)\n",
    "dice_score = np.mean(dices)\n",
    "pixel_accuracy = np.mean(accuracies)\n",
    "\n",
    "true_all = np.concatenate([t.flatten() for t in labels_test])\n",
    "pred_all = np.concatenate([p.flatten() for p in predictions])\n",
    "\n",
    "cm = confusion_matrix(true_all, pred_all, labels=[0, 1])\n",
    "disp = ConfusionMatrixDisplay(confusion_matrix=cm, display_labels=[\"No Shear Line\", \"Shear Line\"])\n",
    "\n",
    "fig, ax = plt.subplots(figsize=(6, 6))\n",
    "disp.plot(cmap=\"magma\", ax=ax)\n",
    "plt.title(f\"IoU={iou_score:.4f}, Dice={dice_score:.4f}\")\n",
    "plt.savefig(f\"{ANALYSIS}/confusion_matrix_{training_timestamp}.png\")\n",
    "plt.show()\n",
    "\n",
    "iou_interpretation = {\n",
    "    (0.90, 1.00): \"Excellent\",\n",
    "    (0.75, 0.90): \"Good\",\n",
    "    (0.50, 0.75): \"Moderate\",\n",
    "    (0.20, 0.50): \"Poor\",\n",
    "    (0.00, 0.20): \"Very Poor\"\n",
    "}\n",
    "\n",
    "dice_interpretation = {\n",
    "    (0.90, 1.00): \"Excellent\",\n",
    "    (0.75, 0.90): \"Good\",\n",
    "    (0.50, 0.75): \"Moderate\",\n",
    "    (0.20, 0.50): \"Poor\",\n",
    "    (0.00, 0.20): \"Very Poor\"\n",
    "}\n",
    "\n",
    "for score_range, interpretation in iou_interpretation.items():\n",
    "    if score_range[0] <= iou_score <= score_range[1]:\n",
    "        print(f\"IoU Interpretation: {interpretation}\")\n",
    "        break\n",
    "\n",
    "for score_range, interpretation in dice_interpretation.items():\n",
    "    if score_range[0] <= dice_score <= score_range[1]:\n",
    "        print(f\"Dice Interpretation: {interpretation}\")\n",
    "        break\n",
    "\n",
    "# Notes: 2025-05-15\n",
    "# The issue with the initial codes, is that the IoU and Dice scores\n",
    "# were computed on the last prediction only. This was fixed\n",
    "# by looping on all predictions and computing each scores\n",
    "# before getting the average of all results."
   ]
  },
  {
   "cell_type": "markdown",
   "id": "06f929d9-23ff-43c4-9d22-5363a1cf06ad",
   "metadata": {
    "id": "06f929d9-23ff-43c4-9d22-5363a1cf06ad"
   },
   "source": [
    "# Step 13: Duplicate Notebook  \n",
    "\n",
    "**Note:** Manually save first before duplicating the notebook."
   ]
  },
  {
   "cell_type": "code",
   "execution_count": null,
   "id": "e931bd5a-682c-46bc-abfe-69bd6aa3088c",
   "metadata": {
    "id": "e931bd5a-682c-46bc-abfe-69bd6aa3088c",
    "outputId": "587f7698-0033-4320-c944-de423ca106ca",
    "scrolled": true
   },
   "outputs": [
    {
     "name": "stdout",
     "output_type": "stream",
     "text": [
      "Checkpoint was created at 'validations/ShearLineCNN_1747315107.ipynb'.\n"
     ]
    }
   ],
   "source": [
    "VALIDATIONS = \"validations\"\n",
    "os.makedirs(VALIDATIONS, exist_ok=True)\n",
    "\n",
    "filename = \"ShearLineCNN.ipynb\"\n",
    "with open(filename, \"r\", encoding=\"utf-8\") as src:\n",
    "    contents = src.read()\n",
    "    checkpoint = f\"{VALIDATIONS}/{filename}\".replace(\".ipynb\", f\"_{training_timestamp}.ipynb\")\n",
    "    with open(checkpoint, \"w\", encoding=\"utf-8\") as dest:\n",
    "        dest.write(contents)\n",
    "        print(f\"Checkpoint was created at '{checkpoint}'.\")"
   ]
  },
  {
   "cell_type": "markdown",
   "id": "a631ad5d-420c-4996-b772-1d6df7cac18d",
   "metadata": {
    "id": "a631ad5d-420c-4996-b772-1d6df7cac18d"
   },
   "source": [
    "> End of code."
   ]
  }
 ],
 "metadata": {
  "accelerator": "GPU",
  "colab": {
   "gpuType": "A100",
   "machine_shape": "hm",
   "provenance": []
  },
  "kernelspec": {
   "display_name": "Python 3 (ipykernel)",
   "language": "python",
   "name": "python3"
  },
  "language_info": {
   "codemirror_mode": {
    "name": "ipython",
    "version": 3
   },
   "file_extension": ".py",
   "mimetype": "text/x-python",
   "name": "python",
   "nbconvert_exporter": "python",
   "pygments_lexer": "ipython3",
   "version": "3.12.9"
  }
 },
 "nbformat": 4,
 "nbformat_minor": 5
}
